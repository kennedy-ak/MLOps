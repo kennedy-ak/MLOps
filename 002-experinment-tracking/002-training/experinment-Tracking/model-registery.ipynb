{
 "cells": [
  {
   "cell_type": "code",
   "execution_count": 3,
   "metadata": {},
   "outputs": [],
   "source": [
    "from mlflow.tracking import MlflowClient\n",
    "\n",
    "MlflowClient_URI = \"sqlite:///mlflow.db\"\n",
    "\n",
    "\n",
    "client=  MlflowClient(tracking_uri=MlflowClient_URI)"
   ]
  },
  {
   "cell_type": "code",
   "execution_count": 7,
   "metadata": {},
   "outputs": [
    {
     "data": {
      "text/plain": [
       "[<Experiment: artifact_location='/home/akogo/Desktop/MLOps/002-experinment-tracking/002-training/experinment-Tracking/mlruns/1', creation_time=1730815586467, experiment_id='1', last_update_time=1730815586467, lifecycle_stage='active', name='nyc-taxi-experiment', tags={}>,\n",
       " <Experiment: artifact_location='/home/akogo/Desktop/MLOps/002-experinment-tracking/002-training/experinment-Tracking/mlruns/0', creation_time=1730815586435, experiment_id='0', last_update_time=1730815586435, lifecycle_stage='active', name='Default', tags={}>]"
      ]
     },
     "execution_count": 7,
     "metadata": {},
     "output_type": "execute_result"
    }
   ],
   "source": [
    "client.search_experiments()"
   ]
  },
  {
   "cell_type": "code",
   "execution_count": 8,
   "metadata": {},
   "outputs": [
    {
     "data": {
      "text/plain": [
       "'2'"
      ]
     },
     "execution_count": 8,
     "metadata": {},
     "output_type": "execute_result"
    }
   ],
   "source": [
    "client.create_experiment(name='my-cool-experiment')"
   ]
  },
  {
   "cell_type": "code",
   "execution_count": 10,
   "metadata": {},
   "outputs": [],
   "source": [
    "# finding the best model in an experiment\n",
    "from mlflow.entities import ViewType\n",
    "runs = client.search_runs(\n",
    "    experiment_ids='1',\n",
    "    filter_string='',\n",
    "    run_view_type=ViewType.ACTIVE_ONLY,\n",
    "    max_results=5,\n",
    "    order_by=['metrics.rmse ASC']\n",
    ")"
   ]
  },
  {
   "cell_type": "code",
   "execution_count": 11,
   "metadata": {},
   "outputs": [
    {
     "data": {
      "text/plain": [
       "[<Run: data=<RunData: metrics={'rmse': 6.318445793399953}, params={'learning_rate': '0.09585355369315604',\n",
       "  'max_depth': '30',\n",
       "  'min_child_weight': '1.060597050922164',\n",
       "  'objective': 'reg:linear',\n",
       "  'reg_alpha': '0.018060244040060163',\n",
       "  'reg_lambda': '0.011658731377413597',\n",
       "  'seed': '42'}, tags={'mlflow.log-model.history': '[{\"run_id\": \"77af998e8ddd49cea6962e12d833966d\", '\n",
       "                              '\"artifact_path\": \"models_mlflow\", '\n",
       "                              '\"utc_time_created\": \"2024-11-05 '\n",
       "                              '15:11:30.872384\", \"model_uuid\": '\n",
       "                              '\"d3bd1a70fdc5460195458ecd7bbda5df\", \"flavors\": '\n",
       "                              '{\"python_function\": {\"loader_module\": '\n",
       "                              '\"mlflow.xgboost\", \"python_version\": \"3.12.4\", '\n",
       "                              '\"data\": \"model.xgb\", \"env\": {\"conda\": '\n",
       "                              '\"conda.yaml\", \"virtualenv\": \"python_env.yaml\"}}, '\n",
       "                              '\"xgboost\": {\"xgb_version\": \"2.1.1\", \"data\": '\n",
       "                              '\"model.xgb\", \"model_class\": '\n",
       "                              '\"xgboost.core.Booster\", \"model_format\": \"xgb\", '\n",
       "                              '\"code\": null}}}]',\n",
       "  'mlflow.runName': 'efficient-panda-110',\n",
       "  'mlflow.source.name': '/home/akogo/anaconda3/lib/python3.12/site-packages/ipykernel_launcher.py',\n",
       "  'mlflow.source.type': 'LOCAL',\n",
       "  'mlflow.user': 'akogo'}>, info=<RunInfo: artifact_uri='/home/akogo/Desktop/MLOps/002-experinment-tracking/002-training/experinment-Tracking/mlruns/1/77af998e8ddd49cea6962e12d833966d/artifacts', end_time=1730819504505, experiment_id='1', lifecycle_stage='active', run_id='77af998e8ddd49cea6962e12d833966d', run_name='efficient-panda-110', run_uuid='77af998e8ddd49cea6962e12d833966d', start_time=1730819261864, status='FINISHED', user_id='akogo'>, inputs=<RunInputs: dataset_inputs=[]>>,\n",
       " <Run: data=<RunData: metrics={'rmse': 6.350536965201958}, params={'learning_rate': '0.09585355369315604',\n",
       "  'max_depth': '20',\n",
       "  'min_child_weight': '1.090597050922164',\n",
       "  'objective': 'reg:linear',\n",
       "  'reg_alpha': '0.02806024404006016',\n",
       "  'reg_lambda': '0.012658731377413596',\n",
       "  'seed': '42'}, tags={'mlflow.log-model.history': '[{\"run_id\": \"3b8eed8966ee494b924f04fd63f275ed\", '\n",
       "                              '\"artifact_path\": \"models_mlflow\", '\n",
       "                              '\"utc_time_created\": \"2024-11-05 '\n",
       "                              '15:18:06.721428\", \"model_uuid\": '\n",
       "                              '\"1a213c0328484364890c2a4abc38eb20\", \"flavors\": '\n",
       "                              '{\"python_function\": {\"loader_module\": '\n",
       "                              '\"mlflow.xgboost\", \"python_version\": \"3.12.4\", '\n",
       "                              '\"data\": \"model.xgb\", \"env\": {\"conda\": '\n",
       "                              '\"conda.yaml\", \"virtualenv\": \"python_env.yaml\"}}, '\n",
       "                              '\"xgboost\": {\"xgb_version\": \"2.1.1\", \"data\": '\n",
       "                              '\"model.xgb\", \"model_class\": '\n",
       "                              '\"xgboost.core.Booster\", \"model_format\": \"xgb\", '\n",
       "                              '\"code\": null}}}]',\n",
       "  'mlflow.runName': 'placid-doe-751',\n",
       "  'mlflow.source.name': '/home/akogo/anaconda3/lib/python3.12/site-packages/ipykernel_launcher.py',\n",
       "  'mlflow.source.type': 'LOCAL',\n",
       "  'mlflow.user': 'akogo'}>, info=<RunInfo: artifact_uri='/home/akogo/Desktop/MLOps/002-experinment-tracking/002-training/experinment-Tracking/mlruns/1/3b8eed8966ee494b924f04fd63f275ed/artifacts', end_time=1730819891268, experiment_id='1', lifecycle_stage='active', run_id='3b8eed8966ee494b924f04fd63f275ed', run_name='placid-doe-751', run_uuid='3b8eed8966ee494b924f04fd63f275ed', start_time=1730819718998, status='FINISHED', user_id='akogo'>, inputs=<RunInputs: dataset_inputs=[]>>,\n",
       " <Run: data=<RunData: metrics={'rmse': 6.582113020431365}, params={'learning_rate': '0.2715430643717039',\n",
       "  'max_depth': '85',\n",
       "  'min_child_weight': '12.667348728077366',\n",
       "  'objective': 'reg:linear',\n",
       "  'reg_alpha': '0.08915360252079926',\n",
       "  'reg_lambda': '0.08674677657766762',\n",
       "  'seed': '42'}, tags={'mlflow.runName': 'treasured-hare-859',\n",
       "  'mlflow.source.name': '/home/akogo/anaconda3/lib/python3.12/site-packages/ipykernel_launcher.py',\n",
       "  'mlflow.source.type': 'LOCAL',\n",
       "  'mlflow.user': 'akogo',\n",
       "  'model': 'xgboost'}>, info=<RunInfo: artifact_uri='/home/akogo/Desktop/MLOps/002-experinment-tracking/002-training/experinment-Tracking/mlruns/1/26f11eb8585d4dbeaae120d2c042d66b/artifacts', end_time=1730818942341, experiment_id='1', lifecycle_stage='active', run_id='26f11eb8585d4dbeaae120d2c042d66b', run_name='treasured-hare-859', run_uuid='26f11eb8585d4dbeaae120d2c042d66b', start_time=1730818896868, status='FINISHED', user_id='akogo'>, inputs=<RunInputs: dataset_inputs=[]>>,\n",
       " <Run: data=<RunData: metrics={'rmse': 12.143233939663894}, params={'alpha': '0.1',\n",
       "  'train-data-path': './data/green_tripdata_2021-01.csv',\n",
       "  'valid-data-path': './data/green_tripdata_2021-02.csv'}, tags={'developer': 'kennedy',\n",
       "  'mlflow.runName': 'bald-fox-723',\n",
       "  'mlflow.source.name': '/home/akogo/anaconda3/lib/python3.12/site-packages/ipykernel_launcher.py',\n",
       "  'mlflow.source.type': 'LOCAL',\n",
       "  'mlflow.user': 'akogo'}>, info=<RunInfo: artifact_uri='/home/akogo/Desktop/MLOps/002-experinment-tracking/002-training/experinment-Tracking/mlruns/1/77d9227279a24cbf991bf3825f6685f5/artifacts', end_time=1730818869653, experiment_id='1', lifecycle_stage='active', run_id='77d9227279a24cbf991bf3825f6685f5', run_name='bald-fox-723', run_uuid='77d9227279a24cbf991bf3825f6685f5', start_time=1730818861546, status='FINISHED', user_id='akogo'>, inputs=<RunInputs: dataset_inputs=[]>>,\n",
       " <Run: data=<RunData: metrics={'rmse': 12.143233939663894}, params={'alpha': '0.1',\n",
       "  'train-data-path': './data/green_tripdata_2021-01.csv',\n",
       "  'valid-data-path': './data/green_tripdata_2021-02.csv'}, tags={'developer': 'kennedy',\n",
       "  'mlflow.runName': 'nebulous-mouse-667',\n",
       "  'mlflow.source.name': '/home/akogo/anaconda3/lib/python3.12/site-packages/ipykernel_launcher.py',\n",
       "  'mlflow.source.type': 'LOCAL',\n",
       "  'mlflow.user': 'akogo'}>, info=<RunInfo: artifact_uri='/home/akogo/Desktop/MLOps/002-experinment-tracking/002-training/experinment-Tracking/mlruns/1/58be6e83a1dd4e53832de01e4247d3a3/artifacts', end_time=1730816718498, experiment_id='1', lifecycle_stage='active', run_id='58be6e83a1dd4e53832de01e4247d3a3', run_name='nebulous-mouse-667', run_uuid='58be6e83a1dd4e53832de01e4247d3a3', start_time=1730816709989, status='FINISHED', user_id='akogo'>, inputs=<RunInputs: dataset_inputs=[]>>]"
      ]
     },
     "execution_count": 11,
     "metadata": {},
     "output_type": "execute_result"
    }
   ],
   "source": [
    "runs"
   ]
  },
  {
   "cell_type": "code",
   "execution_count": 12,
   "metadata": {},
   "outputs": [
    {
     "name": "stdout",
     "output_type": "stream",
     "text": [
      "run id 77af998e8ddd49cea6962e12d833966d, rmse: 6.3184\n",
      "run id 3b8eed8966ee494b924f04fd63f275ed, rmse: 6.3505\n",
      "run id 26f11eb8585d4dbeaae120d2c042d66b, rmse: 6.5821\n",
      "run id 77d9227279a24cbf991bf3825f6685f5, rmse: 12.1432\n",
      "run id 58be6e83a1dd4e53832de01e4247d3a3, rmse: 12.1432\n"
     ]
    }
   ],
   "source": [
    "for run in runs:\n",
    "    print(f\"run id {run.info.run_id}, rmse: {run.data.metrics['rmse']:.4f}\")"
   ]
  },
  {
   "cell_type": "code",
   "execution_count": 13,
   "metadata": {},
   "outputs": [],
   "source": [
    "## moving some runs to the registry"
   ]
  },
  {
   "cell_type": "code",
   "execution_count": 15,
   "metadata": {},
   "outputs": [
    {
     "name": "stderr",
     "output_type": "stream",
     "text": [
      "Registered model 'nyc-taxi-records' already exists. Creating a new version of this model...\n",
      "Created version '3' of model 'nyc-taxi-records'.\n"
     ]
    },
    {
     "data": {
      "text/plain": [
       "<ModelVersion: aliases=[], creation_timestamp=1730821597445, current_stage='None', description=None, last_updated_timestamp=1730821597445, name='nyc-taxi-records', run_id='77d9227279a24cbf991bf3825f6685f5', run_link=None, source='/home/akogo/Desktop/MLOps/002-experinment-tracking/002-training/experinment-Tracking/mlruns/1/77d9227279a24cbf991bf3825f6685f5/artifacts/model', status='READY', status_message=None, tags={}, user_id=None, version=3>"
      ]
     },
     "execution_count": 15,
     "metadata": {},
     "output_type": "execute_result"
    }
   ],
   "source": [
    "import mlflow\n",
    "\n",
    "mlflow.set_tracking_uri(MlflowClient_URI)\n",
    "\n",
    "run_id = \"77d9227279a24cbf991bf3825f6685f5\"\n",
    "model_uri = f\"runs:/{run_id}/model\"\n",
    "mlflow.register_model(model_uri,name=\"nyc-taxi-records\")\n"
   ]
  },
  {
   "cell_type": "code",
   "execution_count": 16,
   "metadata": {},
   "outputs": [
    {
     "data": {
      "text/plain": [
       "'runs:/77d9227279a24cbf991bf3825f6685f5/model'"
      ]
     },
     "execution_count": 16,
     "metadata": {},
     "output_type": "execute_result"
    }
   ],
   "source": [
    "model_uri"
   ]
  },
  {
   "cell_type": "code",
   "execution_count": 17,
   "metadata": {},
   "outputs": [],
   "source": [
    "# move the model to staging"
   ]
  },
  {
   "cell_type": "code",
   "execution_count": 18,
   "metadata": {},
   "outputs": [
    {
     "ename": "AttributeError",
     "evalue": "'MlflowClient' object has no attribute 'list_registed_models'",
     "output_type": "error",
     "traceback": [
      "\u001b[0;31m---------------------------------------------------------------------------\u001b[0m",
      "\u001b[0;31mAttributeError\u001b[0m                            Traceback (most recent call last)",
      "Cell \u001b[0;32mIn[18], line 1\u001b[0m\n\u001b[0;32m----> 1\u001b[0m client\u001b[38;5;241m.\u001b[39mlist_registed_models()\n",
      "\u001b[0;31mAttributeError\u001b[0m: 'MlflowClient' object has no attribute 'list_registed_models'"
     ]
    }
   ],
   "source": [
    "client.list_registed_models()"
   ]
  },
  {
   "cell_type": "code",
   "execution_count": 22,
   "metadata": {},
   "outputs": [
    {
     "data": {
      "text/plain": [
       "[<RegisteredModel: aliases={}, creation_timestamp=1730819669820, description='This is the Nyc Taxi Predictor for trip duration', last_updated_timestamp=1730821597445, latest_versions=[<ModelVersion: aliases=[], creation_timestamp=1730819950027, current_stage='Staging', description='', last_updated_timestamp=1730820315332, name='nyc-taxi-records', run_id='3b8eed8966ee494b924f04fd63f275ed', run_link='', source='/home/akogo/Desktop/MLOps/002-experinment-tracking/002-training/experinment-Tracking/mlruns/1/3b8eed8966ee494b924f04fd63f275ed/artifacts/models_mlflow', status='READY', status_message=None, tags={}, user_id=None, version=2>,\n",
       "  <ModelVersion: aliases=[], creation_timestamp=1730821597445, current_stage='None', description=None, last_updated_timestamp=1730821597445, name='nyc-taxi-records', run_id='77d9227279a24cbf991bf3825f6685f5', run_link=None, source='/home/akogo/Desktop/MLOps/002-experinment-tracking/002-training/experinment-Tracking/mlruns/1/77d9227279a24cbf991bf3825f6685f5/artifacts/model', status='READY', status_message=None, tags={}, user_id=None, version=3>], name='nyc-taxi-records', tags={'model': 'xgboost'}>]"
      ]
     },
     "execution_count": 22,
     "metadata": {},
     "output_type": "execute_result"
    }
   ],
   "source": [
    "client.search_registered_models()"
   ]
  },
  {
   "cell_type": "code",
   "execution_count": 24,
   "metadata": {},
   "outputs": [
    {
     "name": "stderr",
     "output_type": "stream",
     "text": [
      "/tmp/ipykernel_51238/3854861217.py:2: FutureWarning: ``mlflow.tracking.client.MlflowClient.get_latest_versions`` is deprecated since 2.9.0. Model registry stages will be removed in a future major release. To learn more about the deprecation of model registry stages, see our migration guide here: https://mlflow.org/docs/latest/model-registry.html#migrating-from-stages\n",
      "  latest_versions= client.get_latest_versions(name=model_name)\n"
     ]
    }
   ],
   "source": [
    "model_name = \"nyc-taxi-records\"\n",
    "latest_versions= client.get_latest_versions(name=model_name)"
   ]
  },
  {
   "cell_type": "code",
   "execution_count": 27,
   "metadata": {},
   "outputs": [
    {
     "name": "stdout",
     "output_type": "stream",
     "text": [
      "version 2 Staging\n",
      "version 3 None\n"
     ]
    }
   ],
   "source": [
    "for version in latest_versions:\n",
    "    print(f\"version {version.version} {version.current_stage}\")"
   ]
  },
  {
   "cell_type": "code",
   "execution_count": 30,
   "metadata": {},
   "outputs": [
    {
     "name": "stderr",
     "output_type": "stream",
     "text": [
      "/tmp/ipykernel_51238/2789967756.py:1: FutureWarning: ``mlflow.tracking.client.MlflowClient.transition_model_version_stage`` is deprecated since 2.9.0. Model registry stages will be removed in a future major release. To learn more about the deprecation of model registry stages, see our migration guide here: https://mlflow.org/docs/latest/model-registry.html#migrating-from-stages\n",
      "  client.transition_model_version_stage(\n"
     ]
    },
    {
     "data": {
      "text/plain": [
       "<ModelVersion: aliases=[], creation_timestamp=1730821597445, current_stage='Staging', description=None, last_updated_timestamp=1730822463952, name='nyc-taxi-records', run_id='77d9227279a24cbf991bf3825f6685f5', run_link=None, source='/home/akogo/Desktop/MLOps/002-experinment-tracking/002-training/experinment-Tracking/mlruns/1/77d9227279a24cbf991bf3825f6685f5/artifacts/model', status='READY', status_message=None, tags={}, user_id=None, version=3>"
      ]
     },
     "execution_count": 30,
     "metadata": {},
     "output_type": "execute_result"
    }
   ],
   "source": [
    "client.transition_model_version_stage(\n",
    "    name=model_name,\n",
    "    version =3,\n",
    "    archive_existing_versions=False,\n",
    "    stage=\"Staging\"\n",
    "\n",
    ")"
   ]
  },
  {
   "cell_type": "code",
   "execution_count": null,
   "metadata": {},
   "outputs": [],
   "source": []
  }
 ],
 "metadata": {
  "kernelspec": {
   "display_name": "base",
   "language": "python",
   "name": "python3"
  },
  "language_info": {
   "codemirror_mode": {
    "name": "ipython",
    "version": 3
   },
   "file_extension": ".py",
   "mimetype": "text/x-python",
   "name": "python",
   "nbconvert_exporter": "python",
   "pygments_lexer": "ipython3",
   "version": "3.12.4"
  }
 },
 "nbformat": 4,
 "nbformat_minor": 2
}
