{
 "cells": [
  {
   "cell_type": "markdown",
   "metadata": {},
   "source": [
    "# Q1. Install MLflow"
   ]
  },
  {
   "cell_type": "code",
   "execution_count": 1,
   "metadata": {},
   "outputs": [
    {
     "name": "stdout",
     "output_type": "stream",
     "text": [
      "Requirement already satisfied: mlflow in /home/akogo/anaconda3/lib/python3.12/site-packages (2.17.2)\n",
      "Requirement already satisfied: mlflow-skinny==2.17.2 in /home/akogo/anaconda3/lib/python3.12/site-packages (from mlflow) (2.17.2)\n",
      "Requirement already satisfied: Flask<4 in /home/akogo/anaconda3/lib/python3.12/site-packages (from mlflow) (3.0.3)\n",
      "Requirement already satisfied: alembic!=1.10.0,<2 in /home/akogo/anaconda3/lib/python3.12/site-packages (from mlflow) (1.13.3)\n",
      "Requirement already satisfied: docker<8,>=4.0.0 in /home/akogo/anaconda3/lib/python3.12/site-packages (from mlflow) (7.1.0)\n",
      "Requirement already satisfied: graphene<4 in /home/akogo/anaconda3/lib/python3.12/site-packages (from mlflow) (3.4.1)\n",
      "Requirement already satisfied: markdown<4,>=3.3 in /home/akogo/anaconda3/lib/python3.12/site-packages (from mlflow) (3.4.1)\n",
      "Requirement already satisfied: matplotlib<4 in /home/akogo/anaconda3/lib/python3.12/site-packages (from mlflow) (3.8.4)\n",
      "Requirement already satisfied: numpy<3 in /home/akogo/anaconda3/lib/python3.12/site-packages (from mlflow) (1.26.4)\n",
      "Requirement already satisfied: pandas<3 in /home/akogo/anaconda3/lib/python3.12/site-packages (from mlflow) (2.2.2)\n",
      "Requirement already satisfied: pyarrow<18,>=4.0.0 in /home/akogo/anaconda3/lib/python3.12/site-packages (from mlflow) (14.0.2)\n",
      "Requirement already satisfied: scikit-learn<2 in /home/akogo/anaconda3/lib/python3.12/site-packages (from mlflow) (1.5.1)\n",
      "Requirement already satisfied: scipy<2 in /home/akogo/anaconda3/lib/python3.12/site-packages (from mlflow) (1.13.1)\n",
      "Requirement already satisfied: sqlalchemy<3,>=1.4.0 in /home/akogo/anaconda3/lib/python3.12/site-packages (from mlflow) (2.0.35)\n",
      "Requirement already satisfied: Jinja2<4,>=2.11 in /home/akogo/anaconda3/lib/python3.12/site-packages (from mlflow) (3.1.4)\n",
      "Requirement already satisfied: gunicorn<24 in /home/akogo/anaconda3/lib/python3.12/site-packages (from mlflow) (23.0.0)\n",
      "Requirement already satisfied: cachetools<6,>=5.0.0 in /home/akogo/anaconda3/lib/python3.12/site-packages (from mlflow-skinny==2.17.2->mlflow) (5.3.3)\n",
      "Requirement already satisfied: click<9,>=7.0 in /home/akogo/anaconda3/lib/python3.12/site-packages (from mlflow-skinny==2.17.2->mlflow) (8.1.7)\n",
      "Requirement already satisfied: cloudpickle<4 in /home/akogo/anaconda3/lib/python3.12/site-packages (from mlflow-skinny==2.17.2->mlflow) (2.2.1)\n",
      "Requirement already satisfied: databricks-sdk<1,>=0.20.0 in /home/akogo/anaconda3/lib/python3.12/site-packages (from mlflow-skinny==2.17.2->mlflow) (0.36.0)\n",
      "Requirement already satisfied: gitpython<4,>=3.1.9 in /home/akogo/anaconda3/lib/python3.12/site-packages (from mlflow-skinny==2.17.2->mlflow) (3.1.37)\n",
      "Requirement already satisfied: importlib-metadata!=4.7.0,<9,>=3.7.0 in /home/akogo/anaconda3/lib/python3.12/site-packages (from mlflow-skinny==2.17.2->mlflow) (7.0.1)\n",
      "Requirement already satisfied: opentelemetry-api<3,>=1.9.0 in /home/akogo/anaconda3/lib/python3.12/site-packages (from mlflow-skinny==2.17.2->mlflow) (1.27.0)\n",
      "Requirement already satisfied: opentelemetry-sdk<3,>=1.9.0 in /home/akogo/anaconda3/lib/python3.12/site-packages (from mlflow-skinny==2.17.2->mlflow) (1.27.0)\n",
      "Requirement already satisfied: packaging<25 in /home/akogo/anaconda3/lib/python3.12/site-packages (from mlflow-skinny==2.17.2->mlflow) (23.2)\n",
      "Requirement already satisfied: protobuf<6,>=3.12.0 in /home/akogo/anaconda3/lib/python3.12/site-packages (from mlflow-skinny==2.17.2->mlflow) (4.25.5)\n",
      "Requirement already satisfied: pyyaml<7,>=5.1 in /home/akogo/anaconda3/lib/python3.12/site-packages (from mlflow-skinny==2.17.2->mlflow) (6.0.1)\n",
      "Requirement already satisfied: requests<3,>=2.17.3 in /home/akogo/anaconda3/lib/python3.12/site-packages (from mlflow-skinny==2.17.2->mlflow) (2.32.2)\n",
      "Requirement already satisfied: sqlparse<1,>=0.4.0 in /home/akogo/anaconda3/lib/python3.12/site-packages (from mlflow-skinny==2.17.2->mlflow) (0.5.1)\n",
      "Requirement already satisfied: Mako in /home/akogo/anaconda3/lib/python3.12/site-packages (from alembic!=1.10.0,<2->mlflow) (1.3.5)\n",
      "Requirement already satisfied: typing-extensions>=4 in /home/akogo/anaconda3/lib/python3.12/site-packages (from alembic!=1.10.0,<2->mlflow) (4.11.0)\n",
      "Requirement already satisfied: urllib3>=1.26.0 in /home/akogo/anaconda3/lib/python3.12/site-packages (from docker<8,>=4.0.0->mlflow) (2.2.2)\n",
      "Requirement already satisfied: Werkzeug>=3.0.0 in /home/akogo/anaconda3/lib/python3.12/site-packages (from Flask<4->mlflow) (3.0.3)\n",
      "Requirement already satisfied: itsdangerous>=2.1.2 in /home/akogo/anaconda3/lib/python3.12/site-packages (from Flask<4->mlflow) (2.2.0)\n",
      "Requirement already satisfied: blinker>=1.6.2 in /home/akogo/anaconda3/lib/python3.12/site-packages (from Flask<4->mlflow) (1.6.2)\n",
      "Requirement already satisfied: graphql-core<3.3,>=3.1 in /home/akogo/anaconda3/lib/python3.12/site-packages (from graphene<4->mlflow) (3.2.5)\n",
      "Requirement already satisfied: graphql-relay<3.3,>=3.1 in /home/akogo/anaconda3/lib/python3.12/site-packages (from graphene<4->mlflow) (3.2.0)\n",
      "Requirement already satisfied: python-dateutil<3,>=2.7.0 in /home/akogo/anaconda3/lib/python3.12/site-packages (from graphene<4->mlflow) (2.9.0.post0)\n",
      "Requirement already satisfied: MarkupSafe>=2.0 in /home/akogo/anaconda3/lib/python3.12/site-packages (from Jinja2<4,>=2.11->mlflow) (2.1.3)\n",
      "Requirement already satisfied: contourpy>=1.0.1 in /home/akogo/anaconda3/lib/python3.12/site-packages (from matplotlib<4->mlflow) (1.2.0)\n",
      "Requirement already satisfied: cycler>=0.10 in /home/akogo/anaconda3/lib/python3.12/site-packages (from matplotlib<4->mlflow) (0.11.0)\n",
      "Requirement already satisfied: fonttools>=4.22.0 in /home/akogo/anaconda3/lib/python3.12/site-packages (from matplotlib<4->mlflow) (4.51.0)\n",
      "Requirement already satisfied: kiwisolver>=1.3.1 in /home/akogo/anaconda3/lib/python3.12/site-packages (from matplotlib<4->mlflow) (1.4.4)\n",
      "Requirement already satisfied: pillow>=8 in /home/akogo/anaconda3/lib/python3.12/site-packages (from matplotlib<4->mlflow) (10.3.0)\n",
      "Requirement already satisfied: pyparsing>=2.3.1 in /home/akogo/anaconda3/lib/python3.12/site-packages (from matplotlib<4->mlflow) (3.0.9)\n",
      "Requirement already satisfied: pytz>=2020.1 in /home/akogo/anaconda3/lib/python3.12/site-packages (from pandas<3->mlflow) (2024.1)\n",
      "Requirement already satisfied: tzdata>=2022.7 in /home/akogo/anaconda3/lib/python3.12/site-packages (from pandas<3->mlflow) (2023.3)\n",
      "Requirement already satisfied: joblib>=1.2.0 in /home/akogo/anaconda3/lib/python3.12/site-packages (from scikit-learn<2->mlflow) (1.4.2)\n",
      "Requirement already satisfied: threadpoolctl>=3.1.0 in /home/akogo/anaconda3/lib/python3.12/site-packages (from scikit-learn<2->mlflow) (3.5.0)\n",
      "Requirement already satisfied: greenlet!=0.4.17 in /home/akogo/anaconda3/lib/python3.12/site-packages (from sqlalchemy<3,>=1.4.0->mlflow) (3.0.1)\n",
      "Requirement already satisfied: google-auth~=2.0 in /home/akogo/anaconda3/lib/python3.12/site-packages (from databricks-sdk<1,>=0.20.0->mlflow-skinny==2.17.2->mlflow) (2.35.0)\n",
      "Requirement already satisfied: gitdb<5,>=4.0.1 in /home/akogo/anaconda3/lib/python3.12/site-packages (from gitpython<4,>=3.1.9->mlflow-skinny==2.17.2->mlflow) (4.0.7)\n",
      "Requirement already satisfied: zipp>=0.5 in /home/akogo/anaconda3/lib/python3.12/site-packages (from importlib-metadata!=4.7.0,<9,>=3.7.0->mlflow-skinny==2.17.2->mlflow) (3.17.0)\n",
      "Requirement already satisfied: deprecated>=1.2.6 in /home/akogo/anaconda3/lib/python3.12/site-packages (from opentelemetry-api<3,>=1.9.0->mlflow-skinny==2.17.2->mlflow) (1.2.14)\n",
      "Requirement already satisfied: opentelemetry-semantic-conventions==0.48b0 in /home/akogo/anaconda3/lib/python3.12/site-packages (from opentelemetry-sdk<3,>=1.9.0->mlflow-skinny==2.17.2->mlflow) (0.48b0)\n",
      "Requirement already satisfied: six>=1.5 in /home/akogo/anaconda3/lib/python3.12/site-packages (from python-dateutil<3,>=2.7.0->graphene<4->mlflow) (1.16.0)\n",
      "Requirement already satisfied: charset-normalizer<4,>=2 in /home/akogo/anaconda3/lib/python3.12/site-packages (from requests<3,>=2.17.3->mlflow-skinny==2.17.2->mlflow) (2.0.4)\n",
      "Requirement already satisfied: idna<4,>=2.5 in /home/akogo/anaconda3/lib/python3.12/site-packages (from requests<3,>=2.17.3->mlflow-skinny==2.17.2->mlflow) (3.7)\n",
      "Requirement already satisfied: certifi>=2017.4.17 in /home/akogo/anaconda3/lib/python3.12/site-packages (from requests<3,>=2.17.3->mlflow-skinny==2.17.2->mlflow) (2024.8.30)\n",
      "Requirement already satisfied: wrapt<2,>=1.10 in /home/akogo/anaconda3/lib/python3.12/site-packages (from deprecated>=1.2.6->opentelemetry-api<3,>=1.9.0->mlflow-skinny==2.17.2->mlflow) (1.14.1)\n",
      "Requirement already satisfied: smmap<5,>=3.0.1 in /home/akogo/anaconda3/lib/python3.12/site-packages (from gitdb<5,>=4.0.1->gitpython<4,>=3.1.9->mlflow-skinny==2.17.2->mlflow) (4.0.0)\n",
      "Requirement already satisfied: pyasn1-modules>=0.2.1 in /home/akogo/anaconda3/lib/python3.12/site-packages (from google-auth~=2.0->databricks-sdk<1,>=0.20.0->mlflow-skinny==2.17.2->mlflow) (0.2.8)\n",
      "Requirement already satisfied: rsa<5,>=3.1.4 in /home/akogo/anaconda3/lib/python3.12/site-packages (from google-auth~=2.0->databricks-sdk<1,>=0.20.0->mlflow-skinny==2.17.2->mlflow) (4.9)\n",
      "Requirement already satisfied: pyasn1<0.5.0,>=0.4.6 in /home/akogo/anaconda3/lib/python3.12/site-packages (from pyasn1-modules>=0.2.1->google-auth~=2.0->databricks-sdk<1,>=0.20.0->mlflow-skinny==2.17.2->mlflow) (0.4.8)\n",
      "Note: you may need to restart the kernel to use updated packages.\n"
     ]
    }
   ],
   "source": [
    "%pip install mlflow"
   ]
  },
  {
   "cell_type": "markdown",
   "metadata": {},
   "source": [
    "# Q2. Download and preprocess the data"
   ]
  },
  {
   "cell_type": "code",
   "execution_count": null,
   "metadata": {},
   "outputs": [
    {
     "data": {
      "text/plain": [
       "4"
      ]
     },
     "execution_count": 3,
     "metadata": {},
     "output_type": "execute_result"
    }
   ],
   "source": []
  },
  {
   "cell_type": "markdown",
   "metadata": {},
   "source": [
    "## How many files were saved to OUTPUT_FOLDER?"
   ]
  },
  {
   "cell_type": "code",
   "execution_count": 18,
   "metadata": {},
   "outputs": [
    {
     "name": "stdout",
     "output_type": "stream",
     "text": [
      " Number of files saved = 4\n"
     ]
    }
   ],
   "source": [
    "import os\n",
    "print(f\" Number of files saved = {len(os.listdir('./output'))}\")"
   ]
  },
  {
   "cell_type": "code",
   "execution_count": null,
   "metadata": {},
   "outputs": [],
   "source": []
  },
  {
   "cell_type": "markdown",
   "metadata": {},
   "source": [
    "# Q3. Train a model with autolog"
   ]
  },
  {
   "cell_type": "markdown",
   "metadata": {},
   "source": [
    "## What is the value of the min_samples_split parameter:"
   ]
  },
  {
   "cell_type": "code",
   "execution_count": 19,
   "metadata": {},
   "outputs": [],
   "source": [
    "from mlflow.tracking import MlflowClient\n",
    "\n",
    "client = MlflowClient()"
   ]
  },
  {
   "cell_type": "code",
   "execution_count": 23,
   "metadata": {},
   "outputs": [
    {
     "data": {
      "text/plain": [
       "[<Experiment: artifact_location='file:///home/akogo/Desktop/MLOps/002-experinment-tracking/002-training/experinment-Tracking/running-mlflow-experinment/mlruns/0', creation_time=1730993161509, experiment_id='0', last_update_time=1730993161509, lifecycle_stage='active', name='Default', tags={}>]"
      ]
     },
     "execution_count": 23,
     "metadata": {},
     "output_type": "execute_result"
    }
   ],
   "source": [
    "client.search_experiments()"
   ]
  },
  {
   "cell_type": "code",
   "execution_count": null,
   "metadata": {},
   "outputs": [],
   "source": []
  },
  {
   "cell_type": "code",
   "execution_count": 24,
   "metadata": {},
   "outputs": [],
   "source": [
    "runs = client.search_runs(experiment_ids=[\"0\"])"
   ]
  },
  {
   "cell_type": "code",
   "execution_count": null,
   "metadata": {},
   "outputs": [
    {
     "data": {
      "text/plain": [
       "[<Run: data=<RunData: metrics={'training_mean_absolute_error': 3.4244701942312354,\n",
       "  'training_mean_squared_error': 27.083054499499358,\n",
       "  'training_r2_score': 0.6673983775155525,\n",
       "  'training_root_mean_squared_error': 5.204138209108148,\n",
       "  'training_score': 0.6673983775155525}, params={'bootstrap': 'True',\n",
       "  'ccp_alpha': '0.0',\n",
       "  'criterion': 'squared_error',\n",
       "  'max_depth': '10',\n",
       "  'max_features': '1.0',\n",
       "  'max_leaf_nodes': 'None',\n",
       "  'max_samples': 'None',\n",
       "  'min_impurity_decrease': '0.0',\n",
       "  'min_samples_leaf': '1',\n",
       "  'min_samples_split': '2',\n",
       "  'min_weight_fraction_leaf': '0.0',\n",
       "  'monotonic_cst': 'None',\n",
       "  'n_estimators': '100',\n",
       "  'n_jobs': 'None',\n",
       "  'oob_score': 'False',\n",
       "  'random_state': '0',\n",
       "  'verbose': '0',\n",
       "  'warm_start': 'False'}, tags={'estimator_class': 'sklearn.ensemble._forest.RandomForestRegressor',\n",
       "  'estimator_name': 'RandomForestRegressor',\n",
       "  'mlflow.log-model.history': '[{\"run_id\": \"7906d089c7e1486b91772d251296c3e7\", '\n",
       "                              '\"artifact_path\": \"model\", \"utc_time_created\": '\n",
       "                              '\"2024-11-07 15:29:27.756181\", \"model_uuid\": '\n",
       "                              '\"5bff07589ef1409eb6e56d245256cc79\", \"flavors\": '\n",
       "                              '{\"python_function\": {\"model_path\": \"model.pkl\", '\n",
       "                              '\"predict_fn\": \"predict\", \"loader_module\": '\n",
       "                              '\"mlflow.sklearn\", \"python_version\": \"3.12.4\", '\n",
       "                              '\"env\": {\"conda\": \"conda.yaml\", \"virtualenv\": '\n",
       "                              '\"python_env.yaml\"}}, \"sklearn\": '\n",
       "                              '{\"pickled_model\": \"model.pkl\", '\n",
       "                              '\"sklearn_version\": \"1.5.1\", '\n",
       "                              '\"serialization_format\": \"cloudpickle\", \"code\": '\n",
       "                              'null}}}]',\n",
       "  'mlflow.runName': 'glamorous-hawk-528',\n",
       "  'mlflow.source.git.commit': 'b347da263a9a2e6e8501ec69b97b05e446e274e0',\n",
       "  'mlflow.source.name': 'train.py',\n",
       "  'mlflow.source.type': 'LOCAL',\n",
       "  'mlflow.user': 'akogo'}>, info=<RunInfo: artifact_uri='file:///home/akogo/Desktop/MLOps/002-experinment-tracking/002-training/experinment-Tracking/running-mlflow-experinment/mlruns/0/7906d089c7e1486b91772d251296c3e7/artifacts', end_time=1730993378278, experiment_id='0', lifecycle_stage='active', run_id='7906d089c7e1486b91772d251296c3e7', run_name='glamorous-hawk-528', run_uuid='7906d089c7e1486b91772d251296c3e7', start_time=1730993356164, status='FINISHED', user_id='akogo'>, inputs=<RunInputs: dataset_inputs=[<DatasetInput: dataset=<Dataset: digest='7edda543', name='dataset', profile=('{\"features_shape\": [62574, 5702], \"features_size\": 356796948, '\n",
       "  '\"features_nbytes\": 2854375584}'), schema=('{\"mlflow_tensorspec\": {\"features\": \"[{\\\\\"type\\\\\": \\\\\"tensor\\\\\", '\n",
       "  '\\\\\"tensor-spec\\\\\": {\\\\\"dtype\\\\\": \\\\\"float64\\\\\", \\\\\"shape\\\\\": [-1, 5702]}}]\", '\n",
       "  '\"targets\": null}}'), source=('{\"tags\": {\"mlflow.user\": \"akogo\", \"mlflow.source.name\": \"train.py\", '\n",
       "  '\"mlflow.source.type\": \"LOCAL\", \"mlflow.source.git.commit\": '\n",
       "  '\"b347da263a9a2e6e8501ec69b97b05e446e274e0\"}}'), source_type='code'>, tags=[<InputTag: key='mlflow.data.context', value='eval'>]>]>>,\n",
       " <Run: data=<RunData: metrics={'training_mean_absolute_error': 3.4244701942312354,\n",
       "  'training_mean_squared_error': 27.083054499499358,\n",
       "  'training_r2_score': 0.6673983775155525,\n",
       "  'training_root_mean_squared_error': 5.204138209108148,\n",
       "  'training_score': 0.6673983775155525}, params={'bootstrap': 'True',\n",
       "  'ccp_alpha': '0.0',\n",
       "  'criterion': 'squared_error',\n",
       "  'max_depth': '10',\n",
       "  'max_features': '1.0',\n",
       "  'max_leaf_nodes': 'None',\n",
       "  'max_samples': 'None',\n",
       "  'min_impurity_decrease': '0.0',\n",
       "  'min_samples_leaf': '1',\n",
       "  'min_samples_split': '2',\n",
       "  'min_weight_fraction_leaf': '0.0',\n",
       "  'monotonic_cst': 'None',\n",
       "  'n_estimators': '100',\n",
       "  'n_jobs': 'None',\n",
       "  'oob_score': 'False',\n",
       "  'random_state': '0',\n",
       "  'verbose': '0',\n",
       "  'warm_start': 'False'}, tags={'estimator_class': 'sklearn.ensemble._forest.RandomForestRegressor',\n",
       "  'estimator_name': 'RandomForestRegressor',\n",
       "  'mlflow.log-model.history': '[{\"run_id\": \"52caa0210e9449e6804111068c556b20\", '\n",
       "                              '\"artifact_path\": \"model\", \"utc_time_created\": '\n",
       "                              '\"2024-11-07 15:27:14.507350\", \"model_uuid\": '\n",
       "                              '\"3a2f0a2f55d44b4faba8e63a86e8b2bb\", \"flavors\": '\n",
       "                              '{\"python_function\": {\"model_path\": \"model.pkl\", '\n",
       "                              '\"predict_fn\": \"predict\", \"loader_module\": '\n",
       "                              '\"mlflow.sklearn\", \"python_version\": \"3.12.4\", '\n",
       "                              '\"env\": {\"conda\": \"conda.yaml\", \"virtualenv\": '\n",
       "                              '\"python_env.yaml\"}}, \"sklearn\": '\n",
       "                              '{\"pickled_model\": \"model.pkl\", '\n",
       "                              '\"sklearn_version\": \"1.5.1\", '\n",
       "                              '\"serialization_format\": \"cloudpickle\", \"code\": '\n",
       "                              'null}}}]',\n",
       "  'mlflow.runName': 'redolent-gnu-395',\n",
       "  'mlflow.source.git.commit': 'b347da263a9a2e6e8501ec69b97b05e446e274e0',\n",
       "  'mlflow.source.name': 'train.py',\n",
       "  'mlflow.source.type': 'LOCAL',\n",
       "  'mlflow.user': 'akogo'}>, info=<RunInfo: artifact_uri='file:///home/akogo/Desktop/MLOps/002-experinment-tracking/002-training/experinment-Tracking/running-mlflow-experinment/mlruns/0/52caa0210e9449e6804111068c556b20/artifacts', end_time=1730993252945, experiment_id='0', lifecycle_stage='active', run_id='52caa0210e9449e6804111068c556b20', run_name='redolent-gnu-395', run_uuid='52caa0210e9449e6804111068c556b20', start_time=1730993222877, status='FINISHED', user_id='akogo'>, inputs=<RunInputs: dataset_inputs=[<DatasetInput: dataset=<Dataset: digest='7edda543', name='dataset', profile=('{\"features_shape\": [62574, 5702], \"features_size\": 356796948, '\n",
       "  '\"features_nbytes\": 2854375584}'), schema=('{\"mlflow_tensorspec\": {\"features\": \"[{\\\\\"type\\\\\": \\\\\"tensor\\\\\", '\n",
       "  '\\\\\"tensor-spec\\\\\": {\\\\\"dtype\\\\\": \\\\\"float64\\\\\", \\\\\"shape\\\\\": [-1, 5702]}}]\", '\n",
       "  '\"targets\": null}}'), source=('{\"tags\": {\"mlflow.user\": \"akogo\", \"mlflow.source.name\": \"train.py\", '\n",
       "  '\"mlflow.source.type\": \"LOCAL\", \"mlflow.source.git.commit\": '\n",
       "  '\"b347da263a9a2e6e8501ec69b97b05e446e274e0\"}}'), source_type='code'>, tags=[<InputTag: key='mlflow.data.context', value='eval'>]>]>>,\n",
       " <Run: data=<RunData: metrics={'training_mean_absolute_error': 3.4244701942312354,\n",
       "  'training_mean_squared_error': 27.083054499499358,\n",
       "  'training_r2_score': 0.6673983775155525,\n",
       "  'training_root_mean_squared_error': 5.204138209108148,\n",
       "  'training_score': 0.6673983775155525}, params={'bootstrap': 'True',\n",
       "  'ccp_alpha': '0.0',\n",
       "  'criterion': 'squared_error',\n",
       "  'max_depth': '10',\n",
       "  'max_features': '1.0',\n",
       "  'max_leaf_nodes': 'None',\n",
       "  'max_samples': 'None',\n",
       "  'min_impurity_decrease': '0.0',\n",
       "  'min_samples_leaf': '1',\n",
       "  'min_samples_split': '2',\n",
       "  'min_weight_fraction_leaf': '0.0',\n",
       "  'monotonic_cst': 'None',\n",
       "  'n_estimators': '100',\n",
       "  'n_jobs': 'None',\n",
       "  'oob_score': 'False',\n",
       "  'random_state': '0',\n",
       "  'verbose': '0',\n",
       "  'warm_start': 'False'}, tags={'estimator_class': 'sklearn.ensemble._forest.RandomForestRegressor',\n",
       "  'estimator_name': 'RandomForestRegressor',\n",
       "  'mlflow.log-model.history': '[{\"run_id\": \"135b07f433af478d966e6582c9da0315\", '\n",
       "                              '\"artifact_path\": \"model\", \"utc_time_created\": '\n",
       "                              '\"2024-11-07 15:26:14.571133\", \"model_uuid\": '\n",
       "                              '\"0283a0542ab3474a8466172d75c6eb64\", \"flavors\": '\n",
       "                              '{\"python_function\": {\"model_path\": \"model.pkl\", '\n",
       "                              '\"predict_fn\": \"predict\", \"loader_module\": '\n",
       "                              '\"mlflow.sklearn\", \"python_version\": \"3.12.4\", '\n",
       "                              '\"env\": {\"conda\": \"conda.yaml\", \"virtualenv\": '\n",
       "                              '\"python_env.yaml\"}}, \"sklearn\": '\n",
       "                              '{\"pickled_model\": \"model.pkl\", '\n",
       "                              '\"sklearn_version\": \"1.5.1\", '\n",
       "                              '\"serialization_format\": \"cloudpickle\", \"code\": '\n",
       "                              'null}}}]',\n",
       "  'mlflow.runName': 'caring-rook-50',\n",
       "  'mlflow.source.git.commit': 'b347da263a9a2e6e8501ec69b97b05e446e274e0',\n",
       "  'mlflow.source.name': 'train.py',\n",
       "  'mlflow.source.type': 'LOCAL',\n",
       "  'mlflow.user': 'akogo'}>, info=<RunInfo: artifact_uri='file:///home/akogo/Desktop/MLOps/002-experinment-tracking/002-training/experinment-Tracking/running-mlflow-experinment/mlruns/0/135b07f433af478d966e6582c9da0315/artifacts', end_time=1730993197970, experiment_id='0', lifecycle_stage='active', run_id='135b07f433af478d966e6582c9da0315', run_name='caring-rook-50', run_uuid='135b07f433af478d966e6582c9da0315', start_time=1730993162043, status='FAILED', user_id='akogo'>, inputs=<RunInputs: dataset_inputs=[<DatasetInput: dataset=<Dataset: digest='7edda543', name='dataset', profile=('{\"features_shape\": [62574, 5702], \"features_size\": 356796948, '\n",
       "  '\"features_nbytes\": 2854375584}'), schema=('{\"mlflow_tensorspec\": {\"features\": \"[{\\\\\"type\\\\\": \\\\\"tensor\\\\\", '\n",
       "  '\\\\\"tensor-spec\\\\\": {\\\\\"dtype\\\\\": \\\\\"float64\\\\\", \\\\\"shape\\\\\": [-1, 5702]}}]\", '\n",
       "  '\"targets\": null}}'), source=('{\"tags\": {\"mlflow.user\": \"akogo\", \"mlflow.source.name\": \"train.py\", '\n",
       "  '\"mlflow.source.type\": \"LOCAL\", \"mlflow.source.git.commit\": '\n",
       "  '\"b347da263a9a2e6e8501ec69b97b05e446e274e0\"}}'), source_type='code'>, tags=[<InputTag: key='mlflow.data.context', value='eval'>]>]>>]"
      ]
     },
     "execution_count": 25,
     "metadata": {},
     "output_type": "execute_result"
    }
   ],
   "source": []
  },
  {
   "cell_type": "code",
   "execution_count": 27,
   "metadata": {},
   "outputs": [
    {
     "name": "stdout",
     "output_type": "stream",
     "text": [
      "the value of the min_samples_split parameter is : 2\n",
      "the value of the min_samples_split parameter is : 2\n",
      "the value of the min_samples_split parameter is : 2\n"
     ]
    }
   ],
   "source": [
    "for run in runs:\n",
    "    min_samples_split = run.data.params.get(\"min_samples_split\")\n",
    "    print(f\"the value of the min_samples_split parameter is : {min_samples_split}\")\n",
    "\n"
   ]
  },
  {
   "cell_type": "markdown",
   "metadata": {},
   "source": [
    "# Q4. Launch the tracking server locally"
   ]
  },
  {
   "cell_type": "code",
   "execution_count": null,
   "metadata": {},
   "outputs": [],
   "source": []
  },
  {
   "cell_type": "markdown",
   "metadata": {},
   "source": [
    "# Q5. Tune model hyperparameters"
   ]
  },
  {
   "cell_type": "code",
   "execution_count": 28,
   "metadata": {},
   "outputs": [],
   "source": [
    "from mlflow.client import MlflowClient\n",
    "\n",
    "client = MlflowClient()"
   ]
  },
  {
   "cell_type": "code",
   "execution_count": 29,
   "metadata": {},
   "outputs": [
    {
     "data": {
      "text/plain": [
       "[<Experiment: artifact_location='file:///home/akogo/Desktop/MLOps/002-experinment-tracking/002-training/experinment-Tracking/running-mlflow-experinment/mlruns/0', creation_time=1730993161509, experiment_id='0', last_update_time=1730993161509, lifecycle_stage='active', name='Default', tags={}>]"
      ]
     },
     "execution_count": 29,
     "metadata": {},
     "output_type": "execute_result"
    }
   ],
   "source": [
    "\n",
    "client.search_experiments()"
   ]
  },
  {
   "cell_type": "code",
   "execution_count": 30,
   "metadata": {},
   "outputs": [
    {
     "name": "stdout",
     "output_type": "stream",
     "text": [
      "Experiment 'random-forest-hyperopt' not found.\n"
     ]
    }
   ],
   "source": [
    "from mlflow.tracking import MlflowClient\n",
    "\n",
    "# Initialize the MLflow client\n",
    "client = MlflowClient()\n",
    "\n",
    "# Specify the experiment name\n",
    "experiment_name = \"random-forest-hyperopt\"\n",
    "experiment = client.get_experiment_by_name(experiment_name)\n",
    "\n",
    "# Retrieve all runs from the experiment and sort by RMSE in ascending order\n",
    "if experiment:\n",
    "    runs = client.search_runs(\n",
    "        experiment_ids=[experiment.experiment_id],\n",
    "        order_by=[\"metrics.rmse ASC\"]\n",
    "    )\n",
    "    \n",
    "    # The best RMSE would be the first one in the sorted list\n",
    "    if runs:\n",
    "        best_rmse = runs[0].data.metrics[\"rmse\"]\n",
    "        print(f\"Best Validation RMSE: {best_rmse}\")\n",
    "    else:\n",
    "        print(\"No runs found in the experiment.\")\n",
    "else:\n",
    "    print(f\"Experiment '{experiment_name}' not found.\")\n",
    "\n"
   ]
  },
  {
   "cell_type": "code",
   "execution_count": 1,
   "metadata": {},
   "outputs": [
    {
     "name": "stdout",
     "output_type": "stream",
     "text": [
      "Name: Default, ID: 0\n"
     ]
    }
   ],
   "source": [
    "from mlflow.tracking import MlflowClient\n",
    "\n",
    "client = MlflowClient()\n",
    "experiments = client.search_experiments()  # Lists all experiments\n",
    "\n",
    "for exp in experiments:\n",
    "    print(f\"Name: {exp.name}, ID: {exp.experiment_id}\")\n"
   ]
  },
  {
   "cell_type": "code",
   "execution_count": 3,
   "metadata": {},
   "outputs": [
    {
     "name": "stdout",
     "output_type": "stream",
     "text": [
      "Experiment Name: Default, Experiment ID: 0\n",
      "  Best RMSE: None\n",
      "  Run ID: 0860c8a7ef6e4ec1a0ccbb5403a6980e\n",
      "  Parameters: {'max_leaf_nodes': 'None', 'verbose': '0', 'warm_start': 'False', 'random_state': '0', 'criterion': 'squared_error', 'oob_score': 'False', 'min_samples_split': '2', 'min_samples_leaf': '1', 'min_impurity_decrease': '0.0', 'bootstrap': 'True', 'ccp_alpha': '0.0', 'max_features': '1.0', 'min_weight_fraction_leaf': '0.0', 'max_depth': '10', 'n_estimators': '100', 'monotonic_cst': 'None', 'n_jobs': 'None', 'max_samples': 'None'}\n",
      "----------------------------------------\n"
     ]
    }
   ],
   "source": [
    "from mlflow.tracking import MlflowClient\n",
    "\n",
    "client = MlflowClient()\n",
    "experiments = client.search_experiments()  # Lists all experiments\n",
    "\n",
    "# Iterate through each experiment to find the best RMSE\n",
    "for exp in experiments:\n",
    "    print(f\"Experiment Name: {exp.name}, Experiment ID: {exp.experiment_id}\")\n",
    "    \n",
    "    # Retrieve all runs for the experiment, sorted by RMSE in ascending order\n",
    "    runs = client.search_runs(\n",
    "        experiment_ids=[exp.experiment_id],\n",
    "        order_by=[\"metrics.rmse ASC\"]\n",
    "    )\n",
    "    \n",
    "    # Check if there are runs in the experiment\n",
    "    if runs:\n",
    "        # The best RMSE will be in the first run due to ascending sort\n",
    "        best_run = runs[0]\n",
    "        best_rmse = best_run.data.metrics.get('rmse')\n",
    "        \n",
    "        print(f\"  Best RMSE: {best_rmse}\")\n",
    "        print(f\"  Run ID: {best_run.info.run_id}\")\n",
    "        print(f\"  Parameters: {best_run.data.params}\")\n",
    "    else:\n",
    "        print(\"  No runs found in this experiment.\")\n",
    "    print(\"-\" * 40)\n"
   ]
  },
  {
   "cell_type": "code",
   "execution_count": null,
   "metadata": {},
   "outputs": [],
   "source": []
  }
 ],
 "metadata": {
  "kernelspec": {
   "display_name": "base",
   "language": "python",
   "name": "python3"
  },
  "language_info": {
   "codemirror_mode": {
    "name": "ipython",
    "version": 3
   },
   "file_extension": ".py",
   "mimetype": "text/x-python",
   "name": "python",
   "nbconvert_exporter": "python",
   "pygments_lexer": "ipython3",
   "version": "3.12.4"
  }
 },
 "nbformat": 4,
 "nbformat_minor": 2
}
