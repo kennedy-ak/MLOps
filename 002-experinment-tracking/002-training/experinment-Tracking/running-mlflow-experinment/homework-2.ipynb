{
 "cells": [
  {
   "cell_type": "markdown",
   "metadata": {},
   "source": [
    "# Q1. Install MLflow"
   ]
  },
  {
   "cell_type": "code",
   "execution_count": 3,
   "metadata": {},
   "outputs": [],
   "source": [
    "# installing mlFLOW using pip\n",
    "\n",
    "# %pip install mlflow"
   ]
  },
  {
   "cell_type": "code",
   "execution_count": 20,
   "metadata": {},
   "outputs": [
    {
     "name": "stdout",
     "output_type": "stream",
     "text": [
      "The version of mlflow installed is 2.17.2\n"
     ]
    }
   ],
   "source": [
    "\"\"\"Ml flow Version\"\"\"\n",
    "\n",
    "import mlflow.version\n",
    "# checking the version of the mlflow\n",
    "print(f\"The version of mlflow installed is {mlflow.version.VERSION}\")"
   ]
  },
  {
   "cell_type": "markdown",
   "metadata": {},
   "source": [
    "# Q2. Download and preprocess the data\n",
    "* downloading da"
   ]
  },
  {
   "cell_type": "code",
   "execution_count": 13,
   "metadata": {},
   "outputs": [
    {
     "data": {
      "text/html": [
       "<div>\n",
       "<style scoped>\n",
       "    .dataframe tbody tr th:only-of-type {\n",
       "        vertical-align: middle;\n",
       "    }\n",
       "\n",
       "    .dataframe tbody tr th {\n",
       "        vertical-align: top;\n",
       "    }\n",
       "\n",
       "    .dataframe thead th {\n",
       "        text-align: right;\n",
       "    }\n",
       "</style>\n",
       "<table border=\"1\" class=\"dataframe\">\n",
       "  <thead>\n",
       "    <tr style=\"text-align: right;\">\n",
       "      <th></th>\n",
       "      <th>VendorID</th>\n",
       "      <th>lpep_pickup_datetime</th>\n",
       "      <th>lpep_dropoff_datetime</th>\n",
       "      <th>store_and_fwd_flag</th>\n",
       "      <th>RatecodeID</th>\n",
       "      <th>PULocationID</th>\n",
       "      <th>DOLocationID</th>\n",
       "      <th>passenger_count</th>\n",
       "      <th>trip_distance</th>\n",
       "      <th>fare_amount</th>\n",
       "      <th>extra</th>\n",
       "      <th>mta_tax</th>\n",
       "      <th>tip_amount</th>\n",
       "      <th>tolls_amount</th>\n",
       "      <th>ehail_fee</th>\n",
       "      <th>improvement_surcharge</th>\n",
       "      <th>total_amount</th>\n",
       "      <th>payment_type</th>\n",
       "      <th>trip_type</th>\n",
       "      <th>congestion_surcharge</th>\n",
       "      <th>duration</th>\n",
       "    </tr>\n",
       "  </thead>\n",
       "  <tbody>\n",
       "    <tr>\n",
       "      <th>0</th>\n",
       "      <td>2</td>\n",
       "      <td>2023-01-01 00:26:10</td>\n",
       "      <td>2023-01-01 00:37:11</td>\n",
       "      <td>N</td>\n",
       "      <td>1.0</td>\n",
       "      <td>166</td>\n",
       "      <td>143</td>\n",
       "      <td>1.0</td>\n",
       "      <td>2.58</td>\n",
       "      <td>14.9</td>\n",
       "      <td>1.0</td>\n",
       "      <td>0.5</td>\n",
       "      <td>4.03</td>\n",
       "      <td>0.0</td>\n",
       "      <td>None</td>\n",
       "      <td>1.0</td>\n",
       "      <td>24.18</td>\n",
       "      <td>1.0</td>\n",
       "      <td>1.0</td>\n",
       "      <td>2.75</td>\n",
       "      <td>11.016667</td>\n",
       "    </tr>\n",
       "    <tr>\n",
       "      <th>1</th>\n",
       "      <td>2</td>\n",
       "      <td>2023-01-01 00:51:03</td>\n",
       "      <td>2023-01-01 00:57:49</td>\n",
       "      <td>N</td>\n",
       "      <td>1.0</td>\n",
       "      <td>24</td>\n",
       "      <td>43</td>\n",
       "      <td>1.0</td>\n",
       "      <td>1.81</td>\n",
       "      <td>10.7</td>\n",
       "      <td>1.0</td>\n",
       "      <td>0.5</td>\n",
       "      <td>2.64</td>\n",
       "      <td>0.0</td>\n",
       "      <td>None</td>\n",
       "      <td>1.0</td>\n",
       "      <td>15.84</td>\n",
       "      <td>1.0</td>\n",
       "      <td>1.0</td>\n",
       "      <td>0.00</td>\n",
       "      <td>6.766667</td>\n",
       "    </tr>\n",
       "    <tr>\n",
       "      <th>2</th>\n",
       "      <td>2</td>\n",
       "      <td>2023-01-01 00:35:12</td>\n",
       "      <td>2023-01-01 00:41:32</td>\n",
       "      <td>N</td>\n",
       "      <td>1.0</td>\n",
       "      <td>223</td>\n",
       "      <td>179</td>\n",
       "      <td>1.0</td>\n",
       "      <td>0.00</td>\n",
       "      <td>7.2</td>\n",
       "      <td>1.0</td>\n",
       "      <td>0.5</td>\n",
       "      <td>1.94</td>\n",
       "      <td>0.0</td>\n",
       "      <td>None</td>\n",
       "      <td>1.0</td>\n",
       "      <td>11.64</td>\n",
       "      <td>1.0</td>\n",
       "      <td>1.0</td>\n",
       "      <td>0.00</td>\n",
       "      <td>6.333333</td>\n",
       "    </tr>\n",
       "    <tr>\n",
       "      <th>3</th>\n",
       "      <td>1</td>\n",
       "      <td>2023-01-01 00:13:14</td>\n",
       "      <td>2023-01-01 00:19:03</td>\n",
       "      <td>N</td>\n",
       "      <td>1.0</td>\n",
       "      <td>41</td>\n",
       "      <td>238</td>\n",
       "      <td>1.0</td>\n",
       "      <td>1.30</td>\n",
       "      <td>6.5</td>\n",
       "      <td>0.5</td>\n",
       "      <td>1.5</td>\n",
       "      <td>1.70</td>\n",
       "      <td>0.0</td>\n",
       "      <td>None</td>\n",
       "      <td>1.0</td>\n",
       "      <td>10.20</td>\n",
       "      <td>1.0</td>\n",
       "      <td>1.0</td>\n",
       "      <td>0.00</td>\n",
       "      <td>5.816667</td>\n",
       "    </tr>\n",
       "    <tr>\n",
       "      <th>4</th>\n",
       "      <td>1</td>\n",
       "      <td>2023-01-01 00:33:04</td>\n",
       "      <td>2023-01-01 00:39:02</td>\n",
       "      <td>N</td>\n",
       "      <td>1.0</td>\n",
       "      <td>41</td>\n",
       "      <td>74</td>\n",
       "      <td>1.0</td>\n",
       "      <td>1.10</td>\n",
       "      <td>6.0</td>\n",
       "      <td>0.5</td>\n",
       "      <td>1.5</td>\n",
       "      <td>0.00</td>\n",
       "      <td>0.0</td>\n",
       "      <td>None</td>\n",
       "      <td>1.0</td>\n",
       "      <td>8.00</td>\n",
       "      <td>1.0</td>\n",
       "      <td>1.0</td>\n",
       "      <td>0.00</td>\n",
       "      <td>5.966667</td>\n",
       "    </tr>\n",
       "  </tbody>\n",
       "</table>\n",
       "</div>"
      ],
      "text/plain": [
       "   VendorID lpep_pickup_datetime  ... congestion_surcharge   duration\n",
       "0         2  2023-01-01 00:26:10  ...                 2.75  11.016667\n",
       "1         2  2023-01-01 00:51:03  ...                 0.00   6.766667\n",
       "2         2  2023-01-01 00:35:12  ...                 0.00   6.333333\n",
       "3         1  2023-01-01 00:13:14  ...                 0.00   5.816667\n",
       "4         1  2023-01-01 00:33:04  ...                 0.00   5.966667\n",
       "\n",
       "[5 rows x 21 columns]"
      ]
     },
     "execution_count": 13,
     "metadata": {},
     "output_type": "execute_result"
    }
   ],
   "source": [
    "## using the read_data to read january data\n",
    "from preprocess_data import read_dataframe\n",
    "# reading the data\n",
    "data = read_dataframe('data/green_tripdata_2023-01.parquet')\n",
    "# displaying the first 5 data points \n",
    "data.head()"
   ]
  },
  {
   "cell_type": "code",
   "execution_count": 17,
   "metadata": {},
   "outputs": [
    {
     "name": "stdout",
     "output_type": "stream",
     "text": [
      "  (0, 1024)\t1.0\n",
      "  (0, 5701)\t2.58\n",
      "  (1, 2725)\t1.0\n",
      "  (1, 5701)\t1.81\n",
      "  (2, 2134)\t1.0\n",
      "  (2, 5701)\t0.0\n",
      "  (3, 3630)\t1.0\n",
      "  (3, 5701)\t1.3\n",
      "  (4, 3668)\t1.0\n",
      "  (4, 5701)\t1.1\n",
      "  (5, 3646)\t1.0\n",
      "  (5, 5701)\t2.78\n",
      "  (6, 1481)\t1.0\n",
      "  (6, 5701)\t3.8\n",
      "  (7, 2733)\t1.0\n",
      "  (7, 5701)\t1.88\n",
      "  (8, 3597)\t1.0\n",
      "  (8, 5701)\t1.11\n",
      "  (9, 2688)\t1.0\n",
      "  (9, 5701)\t4.22\n",
      "  (10, 2814)\t1.0\n",
      "  (10, 5701)\t4.8\n",
      "  (11, 4731)\t1.0\n",
      "  (11, 5701)\t1.99\n",
      "  (12, 4739)\t1.0\n",
      "  :\t:\n",
      "  (65933, 5701)\t4.4\n",
      "  (65934, 1340)\t1.0\n",
      "  (65934, 5701)\t10.64\n",
      "  (65935, 2265)\t1.0\n",
      "  (65935, 5701)\t1.3\n",
      "  (65936, 1102)\t1.0\n",
      "  (65936, 5701)\t6.92\n",
      "  (65937, 1682)\t1.0\n",
      "  (65937, 5701)\t0.37\n",
      "  (65938, 1022)\t1.0\n",
      "  (65938, 5701)\t3.31\n",
      "  (65939, 3746)\t1.0\n",
      "  (65939, 5701)\t2.26\n",
      "  (65940, 4766)\t1.0\n",
      "  (65940, 5701)\t3.92\n",
      "  (65941, 3958)\t1.0\n",
      "  (65941, 5701)\t4070.82\n",
      "  (65942, 40)\t1.0\n",
      "  (65942, 5701)\t2.14\n",
      "  (65943, 4425)\t1.0\n",
      "  (65943, 5701)\t3.44\n",
      "  (65944, 2189)\t1.0\n",
      "  (65944, 5701)\t3.03\n",
      "  (65945, 2861)\t1.0\n",
      "  (65945, 5701)\t5.82\n"
     ]
    }
   ],
   "source": [
    "# fiting the dictVectorizer on the data\n",
    "from preprocess_data import preprocess\n",
    "from sklearn.feature_extraction import DictVectorizer\n",
    "# initialize the DictVectorizer\n",
    "dv = DictVectorizer()\n",
    "\n",
    "preprocessed_data ,dv =preprocess(data,dv,fit_dv=True)\n",
    "print(preprocessed_data)"
   ]
  },
  {
   "cell_type": "markdown",
   "metadata": {},
   "source": [
    "## How many files were saved to OUTPUT_FOLDER?"
   ]
  },
  {
   "cell_type": "code",
   "execution_count": 19,
   "metadata": {},
   "outputs": [
    {
     "name": "stdout",
     "output_type": "stream",
     "text": [
      " Number of files saved = 4\n"
     ]
    }
   ],
   "source": [
    "import os # import the system\n",
    "# count the number of files in the output foler\n",
    "print(f\" Number of files saved = {len(os.listdir('./output'))}\")"
   ]
  },
  {
   "cell_type": "code",
   "execution_count": null,
   "metadata": {},
   "outputs": [],
   "source": []
  },
  {
   "cell_type": "markdown",
   "metadata": {},
   "source": [
    "# Q3. Train a model with autolog"
   ]
  },
  {
   "cell_type": "code",
   "execution_count": null,
   "metadata": {},
   "outputs": [],
   "source": [
    "\"\"\"Run the train.py\"\"\""
   ]
  },
  {
   "cell_type": "markdown",
   "metadata": {},
   "source": [
    "## What is the value of the min_samples_split parameter:"
   ]
  },
  {
   "cell_type": "code",
   "execution_count": null,
   "metadata": {},
   "outputs": [],
   "source": [
    "import mlflow\n",
    "from mlflow.tracking import MlflowClient\n",
    "\n",
    "# Set tracking URI\n",
    "mlflow.set_tracking_uri(\"http://127.0.0.1:5000\")\n",
    "\n",
    "# Initialize client\n",
    "client = MlflowClient()\n",
    "\n",
    "\n"
   ]
  },
  {
   "cell_type": "code",
   "execution_count": 49,
   "metadata": {},
   "outputs": [],
   "source": [
    "# List experiments\n",
    "experiments = client.search_experiments()\n"
   ]
  },
  {
   "cell_type": "code",
   "execution_count": 50,
   "metadata": {},
   "outputs": [
    {
     "data": {
      "text/plain": [
       "[<Experiment: artifact_location='/home/akogo/Desktop/MLOps/artifacts/1', creation_time=1735816597757, experiment_id='1', last_update_time=1735816597757, lifecycle_stage='active', name='nyc-taxi-experiment', tags={}>,\n",
       " <Experiment: artifact_location='/home/akogo/Desktop/MLOps/artifacts/0', creation_time=1735816582525, experiment_id='0', last_update_time=1735816582525, lifecycle_stage='active', name='Default', tags={}>]"
      ]
     },
     "execution_count": 50,
     "metadata": {},
     "output_type": "execute_result"
    }
   ],
   "source": [
    "# display all experinments\n",
    "experiments"
   ]
  },
  {
   "cell_type": "code",
   "execution_count": 51,
   "metadata": {},
   "outputs": [],
   "source": [
    "# getting the runs by id and saving it to a variable runs\n",
    "\n",
    "runs = client.search_runs(experiment_ids=['1'])"
   ]
  },
  {
   "cell_type": "code",
   "execution_count": 52,
   "metadata": {},
   "outputs": [
    {
     "data": {
      "text/plain": [
       "[<Run: data=<RunData: metrics={'training_mean_absolute_error': 3.4244701942312354,\n",
       "  'training_mean_squared_error': 27.083054499499358,\n",
       "  'training_r2_score': 0.6673983775155525,\n",
       "  'training_root_mean_squared_error': 5.204138209108148,\n",
       "  'training_score': 0.6673983775155525}, params={'bootstrap': 'True',\n",
       "  'ccp_alpha': '0.0',\n",
       "  'criterion': 'squared_error',\n",
       "  'max_depth': '10',\n",
       "  'max_features': '1.0',\n",
       "  'max_leaf_nodes': 'None',\n",
       "  'max_samples': 'None',\n",
       "  'min_impurity_decrease': '0.0',\n",
       "  'min_samples_leaf': '1',\n",
       "  'min_samples_split': '2',\n",
       "  'min_weight_fraction_leaf': '0.0',\n",
       "  'monotonic_cst': 'None',\n",
       "  'n_estimators': '100',\n",
       "  'n_jobs': 'None',\n",
       "  'oob_score': 'False',\n",
       "  'random_state': '0',\n",
       "  'verbose': '0',\n",
       "  'warm_start': 'False'}, tags={'estimator_class': 'sklearn.ensemble._forest.RandomForestRegressor',\n",
       "  'estimator_name': 'RandomForestRegressor',\n",
       "  'mlflow.log-model.history': '[{\"run_id\": \"68adf93355314fd68bb7e7738dd30624\", '\n",
       "                              '\"artifact_path\": \"model\", \"utc_time_created\": '\n",
       "                              '\"2025-01-02 11:17:07.449454\", \"model_uuid\": '\n",
       "                              '\"37256647663b42dba3ac0473a7345f7d\", \"flavors\": '\n",
       "                              '{\"python_function\": {\"model_path\": \"model.pkl\", '\n",
       "                              '\"predict_fn\": \"predict\", \"loader_module\": '\n",
       "                              '\"mlflow.sklearn\", \"python_version\": \"3.12.4\", '\n",
       "                              '\"env\": {\"conda\": \"conda.yaml\", \"virtualenv\": '\n",
       "                              '\"python_env.yaml\"}}, \"sklearn\": '\n",
       "                              '{\"pickled_model\": \"model.pkl\", '\n",
       "                              '\"sklearn_version\": \"1.5.1\", '\n",
       "                              '\"serialization_format\": \"cloudpickle\", \"code\": '\n",
       "                              'null}}}]',\n",
       "  'mlflow.runName': 'abrasive-boar-646',\n",
       "  'mlflow.source.git.commit': '7887b2d6b5241401215343286af4303128531746',\n",
       "  'mlflow.source.name': 'train.py',\n",
       "  'mlflow.source.type': 'LOCAL',\n",
       "  'mlflow.user': 'akogo'}>, info=<RunInfo: artifact_uri='/home/akogo/Desktop/MLOps/artifacts/1/68adf93355314fd68bb7e7738dd30624/artifacts', end_time=1735816650296, experiment_id='1', lifecycle_stage='active', run_id='68adf93355314fd68bb7e7738dd30624', run_name='abrasive-boar-646', run_uuid='68adf93355314fd68bb7e7738dd30624', start_time=1735816598080, status='FINISHED', user_id='akogo'>, inputs=<RunInputs: dataset_inputs=[<DatasetInput: dataset=<Dataset: digest='7edda543', name='dataset', profile=('{\"features_shape\": [62574, 5702], \"features_size\": 356796948, '\n",
       "  '\"features_nbytes\": 2854375584}'), schema=('{\"mlflow_tensorspec\": {\"features\": \"[{\\\\\"type\\\\\": \\\\\"tensor\\\\\", '\n",
       "  '\\\\\"tensor-spec\\\\\": {\\\\\"dtype\\\\\": \\\\\"float64\\\\\", \\\\\"shape\\\\\": [-1, 5702]}}]\", '\n",
       "  '\"targets\": null}}'), source=('{\"tags\": {\"mlflow.user\": \"akogo\", \"mlflow.source.name\": \"train.py\", '\n",
       "  '\"mlflow.source.type\": \"LOCAL\", \"mlflow.source.git.commit\": '\n",
       "  '\"7887b2d6b5241401215343286af4303128531746\"}}'), source_type='code'>, tags=[<InputTag: key='mlflow.data.context', value='eval'>]>]>>]"
      ]
     },
     "execution_count": 52,
     "metadata": {},
     "output_type": "execute_result"
    }
   ],
   "source": [
    "# displaying the runs\n",
    "runs"
   ]
  },
  {
   "cell_type": "code",
   "execution_count": 54,
   "metadata": {},
   "outputs": [
    {
     "name": "stdout",
     "output_type": "stream",
     "text": [
      "the value of the min_samples_split parameter is : 2\n"
     ]
    }
   ],
   "source": [
    "# looping through all the information in the run to get the value of min_samples_spli\n",
    "for run in runs:\n",
    "    min_samples_split = run.data.params.get(\"min_samples_split\")\n",
    "    print(f\"the value of the min_samples_split parameter is : {min_samples_split}\")\n",
    "\n"
   ]
  },
  {
   "cell_type": "markdown",
   "metadata": {},
   "source": [
    "# Q4. Launch the tracking server locally"
   ]
  },
  {
   "cell_type": "markdown",
   "metadata": {},
   "source": [
    "* mlflow server \\\n",
    "    --backend-store-uri sqlite:///mlflow.db \\\n",
    "    --default-artifact-root ./artifacts \\\n",
    "    --host 127.0.0.1 \\\n",
    "    --port 5000\n"
   ]
  },
  {
   "cell_type": "code",
   "execution_count": 55,
   "metadata": {},
   "outputs": [
    {
     "data": {
      "text/plain": [
       "' launch the tracking server by inputing the following into the terminal\\nmlflow server     --backend-store-uri sqlite:///mlflow.db     --default-artifact-root ./artifacts     --host 127.0.0.1     --port 5000\\n'"
      ]
     },
     "execution_count": 55,
     "metadata": {},
     "output_type": "execute_result"
    }
   ],
   "source": [
    "#\n",
    "\"\"\" launch the tracking server by inputing the following into the terminal\n",
    "mlflow server \\\n",
    "    --backend-store-uri sqlite:///mlflow.db \\\n",
    "    --default-artifact-root ./artifacts \\\n",
    "    --host 127.0.0.1 \\\n",
    "    --port 5000\n",
    "\"\"\""
   ]
  },
  {
   "cell_type": "markdown",
   "metadata": {},
   "source": [
    "# Q5. Tune model hyperparameters\n",
    "* run the updated hpo.py file\n",
    "* file path =     002-experinment-tracking/002-training/experinment-Tracking/running-mlflow-experinment/\n"
   ]
  },
  {
   "cell_type": "code",
   "execution_count": 61,
   "metadata": {},
   "outputs": [],
   "source": [
    "from mlflow.tracking import MlflowClient\n",
    "\n",
    "# Set tracking URI\n",
    "mlflow.set_tracking_uri(\"http://127.0.0.1:5000\")\n",
    "\n",
    "# Initialize the client\n",
    "client = MlflowClient()"
   ]
  },
  {
   "cell_type": "code",
   "execution_count": 65,
   "metadata": {},
   "outputs": [],
   "source": [
    "# Get the experiment by name\n",
    "experiment_name = \"random-forest-hyperopt\"\n",
    "experiment1 = client.get_experiment_by_name(experiment_name)"
   ]
  },
  {
   "cell_type": "code",
   "execution_count": 66,
   "metadata": {},
   "outputs": [
    {
     "data": {
      "text/plain": [
       "<Experiment: artifact_location='/home/akogo/Desktop/MLOps/002-experinment-tracking/002-training/experinment-Tracking/running-mlflow-experinment/mlruns/1', creation_time=1735817522633, experiment_id='1', last_update_time=1735817522633, lifecycle_stage='active', name='random-forest-hyperopt', tags={}>"
      ]
     },
     "execution_count": 66,
     "metadata": {},
     "output_type": "execute_result"
    }
   ],
   "source": [
    "experiment1"
   ]
  },
  {
   "cell_type": "code",
   "execution_count": 67,
   "metadata": {},
   "outputs": [],
   "source": [
    "# Get all runs for the experiment\n",
    "runs = client.search_runs(experiment_ids=[experiment.experiment_id])"
   ]
  },
  {
   "cell_type": "code",
   "execution_count": 68,
   "metadata": {},
   "outputs": [],
   "source": [
    "# Find the best run based on RMSE\n",
    "best_rmse = 90.0000 # Start with a very high value\n",
    "best_params = None\n",
    "best_run_id = None"
   ]
  },
  {
   "cell_type": "code",
   "execution_count": 69,
   "metadata": {},
   "outputs": [],
   "source": [
    "for run in runs:\n",
    "    rmse = float(run.data.metrics[\"rmse\"])  # Convert RMSE to a float\n",
    "    if rmse < best_rmse:\n",
    "        best_rmse = rmse\n",
    "        best_params = run.data.params  # Save the parameters\n",
    "        best_run_id = run.info.run_id  # Save the run ID"
   ]
  },
  {
   "cell_type": "code",
   "execution_count": 73,
   "metadata": {},
   "outputs": [
    {
     "name": "stdout",
     "output_type": "stream",
     "text": [
      "Best Run ID: 0f23f27c03394d5baa2cabeb8288bbd4\n",
      "Best validation RMSE: 5.335\n",
      "Best hyperparameters: {'max_depth': '19', 'min_samples_leaf': '2', 'min_samples_split': '2', 'n_estimators': '11', 'random_state': '42'}\n"
     ]
    }
   ],
   "source": [
    "\n",
    "# Print the results\n",
    "print(f\"Best Run ID: {best_run_id}\")\n",
    "print(f\"Best validation RMSE: {round(best_rmse,3)}\")\n",
    "print(f\"Best hyperparameters: {best_params}\")\n"
   ]
  },
  {
   "cell_type": "markdown",
   "metadata": {},
   "source": [
    "# Q6. Promote the best model to the model registry"
   ]
  },
  {
   "cell_type": "code",
   "execution_count": 84,
   "metadata": {},
   "outputs": [],
   "source": [
    "import mlflow\n",
    "from mlflow.tracking import MlflowClient\n",
    "\n",
    "# Initialize MLflow client\n",
    "mlflow.set_tracking_uri(\"sqlite:///mlflow.db\")\n",
    "client = MlflowClient()\n",
    "\n",
    "# name of the experinments\n",
    "HPO_EXPERIMENT_NAME = \"random-forest-hyperopt\"\n"
   ]
  },
  {
   "cell_type": "code",
   "execution_count": 85,
   "metadata": {},
   "outputs": [],
   "source": [
    "# getting the experinments\n",
    "experiment = client.get_experiment_by_name(HPO_EXPERIMENT_NAME)\n",
    "if experiment is None:\n",
    "    raise ValueError(f\"Experiment '{HPO_EXPERIMENT_NAME}' does not exist.\")\n"
   ]
  },
  {
   "cell_type": "code",
   "execution_count": 86,
   "metadata": {},
   "outputs": [
    {
     "name": "stdout",
     "output_type": "stream",
     "text": [
      "Best Run ID: 9be71915fde14685ac8d3db73e7730d3\n",
      "Best validation RMSE: 5.335419588556921\n"
     ]
    }
   ],
   "source": [
    "# Fetch the best run based on RMSE\n",
    "best_run = client.search_runs(\n",
    "    experiment_ids=[experiment.experiment_id],\n",
    "    run_view_type=mlflow.entities.ViewType.ACTIVE_ONLY,\n",
    "    max_results=1,\n",
    "    order_by=[\"metrics.rmse ASC\"]\n",
    ")[0]\n",
    "\n",
    "# Extract the best run details\n",
    "best_run_id = best_run.info.run_id\n",
    "best_rmse = best_run.data.metrics[\"rmse\"]\n",
    "\n",
    "print(f\"Best Run ID: {best_run_id}\")\n",
    "print(f\"Best validation RMSE: {best_rmse}\")\n"
   ]
  },
  {
   "cell_type": "code",
   "execution_count": 87,
   "metadata": {},
   "outputs": [
    {
     "name": "stdout",
     "output_type": "stream",
     "text": [
      "Model URI: runs:/9be71915fde14685ac8d3db73e7730d3/model\n",
      "Model Name: best_random_forest_model\n"
     ]
    }
   ],
   "source": [
    "# Prepare the model URI and name\n",
    "model_uri = f\"runs:/{best_run_id}/model\"\n",
    "model_name = \"best_random_forest_model\"\n",
    "print(f\"Model URI: {model_uri}\")\n",
    "print(f\"Model Name: {model_name}\")\n"
   ]
  },
  {
   "cell_type": "code",
   "execution_count": 88,
   "metadata": {},
   "outputs": [
    {
     "name": "stdout",
     "output_type": "stream",
     "text": [
      "Model 'best_random_forest_model' registered as version 1.\n"
     ]
    }
   ],
   "source": [
    "# Register the model in the MLflow Model Registry\n",
    "registered_model = client.create_registered_model(name=model_name)\n",
    "model_version = client.create_model_version(\n",
    "    name=model_name,\n",
    "    source=model_uri,\n",
    "    run_id=best_run_id\n",
    ")\n",
    "print(f\"Model '{model_name}' registered as version {model_version.version}.\")\n"
   ]
  },
  {
   "cell_type": "code",
   "execution_count": null,
   "metadata": {},
   "outputs": [],
   "source": []
  },
  {
   "cell_type": "code",
   "execution_count": null,
   "metadata": {},
   "outputs": [],
   "source": []
  }
 ],
 "metadata": {
  "kernelspec": {
   "display_name": "base",
   "language": "python",
   "name": "python3"
  },
  "language_info": {
   "codemirror_mode": {
    "name": "ipython",
    "version": 3
   },
   "file_extension": ".py",
   "mimetype": "text/x-python",
   "name": "python",
   "nbconvert_exporter": "python",
   "pygments_lexer": "ipython3",
   "version": "3.12.4"
  }
 },
 "nbformat": 4,
 "nbformat_minor": 2
}
